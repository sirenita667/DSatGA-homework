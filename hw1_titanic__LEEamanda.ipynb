{
 "cells": [
  {
   "cell_type": "markdown",
   "metadata": {},
   "source": [
    "Homework 1\n",
    "This homework assignment will use the titanic_train data set found in the dataset folder. You will have a week to complete this assignment. Do all your analysis and answer the questions within a Jupyter notebook. Put the notebook in your GitHub's homework repository."
   ]
  },
  {
   "cell_type": "code",
   "execution_count": 168,
   "metadata": {
    "collapsed": false
   },
   "outputs": [],
   "source": [
    "# 1.  Read the titanic data set into a pandas dataframe.\n",
    "\n",
    "import pandas as pd\n",
    "import numpy as np\n",
    "import matplotlib.pyplot as plt\n",
    "%matplotlib inline\n",
    "\n",
    "df= pd.read_csv('https://raw.githubusercontent.com/galvin-mj/DAT_ATL_15/master/Datasets/titanic_train.csv')"
   ]
  },
  {
   "cell_type": "code",
   "execution_count": 169,
   "metadata": {
    "collapsed": false,
    "scrolled": true
   },
   "outputs": [
    {
     "data": {
      "text/html": [
       "<div>\n",
       "<table border=\"1\" class=\"dataframe\">\n",
       "  <thead>\n",
       "    <tr style=\"text-align: right;\">\n",
       "      <th></th>\n",
       "      <th>PassengerId</th>\n",
       "      <th>Survived</th>\n",
       "      <th>Pclass</th>\n",
       "      <th>Name</th>\n",
       "      <th>Sex</th>\n",
       "      <th>Age</th>\n",
       "      <th>SibSp</th>\n",
       "      <th>Parch</th>\n",
       "      <th>Ticket</th>\n",
       "      <th>Fare</th>\n",
       "      <th>Cabin</th>\n",
       "      <th>Embarked</th>\n",
       "    </tr>\n",
       "  </thead>\n",
       "  <tbody>\n",
       "    <tr>\n",
       "      <th>0</th>\n",
       "      <td>1</td>\n",
       "      <td>0</td>\n",
       "      <td>3</td>\n",
       "      <td>Braund, Mr. Owen Harris</td>\n",
       "      <td>male</td>\n",
       "      <td>22</td>\n",
       "      <td>1</td>\n",
       "      <td>0</td>\n",
       "      <td>A/5 21171</td>\n",
       "      <td>7.2500</td>\n",
       "      <td>NaN</td>\n",
       "      <td>S</td>\n",
       "    </tr>\n",
       "    <tr>\n",
       "      <th>1</th>\n",
       "      <td>2</td>\n",
       "      <td>1</td>\n",
       "      <td>1</td>\n",
       "      <td>Cumings, Mrs. John Bradley (Florence Briggs Th...</td>\n",
       "      <td>female</td>\n",
       "      <td>38</td>\n",
       "      <td>1</td>\n",
       "      <td>0</td>\n",
       "      <td>PC 17599</td>\n",
       "      <td>71.2833</td>\n",
       "      <td>C85</td>\n",
       "      <td>C</td>\n",
       "    </tr>\n",
       "    <tr>\n",
       "      <th>2</th>\n",
       "      <td>3</td>\n",
       "      <td>1</td>\n",
       "      <td>3</td>\n",
       "      <td>Heikkinen, Miss. Laina</td>\n",
       "      <td>female</td>\n",
       "      <td>26</td>\n",
       "      <td>0</td>\n",
       "      <td>0</td>\n",
       "      <td>STON/O2. 3101282</td>\n",
       "      <td>7.9250</td>\n",
       "      <td>NaN</td>\n",
       "      <td>S</td>\n",
       "    </tr>\n",
       "    <tr>\n",
       "      <th>3</th>\n",
       "      <td>4</td>\n",
       "      <td>1</td>\n",
       "      <td>1</td>\n",
       "      <td>Futrelle, Mrs. Jacques Heath (Lily May Peel)</td>\n",
       "      <td>female</td>\n",
       "      <td>35</td>\n",
       "      <td>1</td>\n",
       "      <td>0</td>\n",
       "      <td>113803</td>\n",
       "      <td>53.1000</td>\n",
       "      <td>C123</td>\n",
       "      <td>S</td>\n",
       "    </tr>\n",
       "    <tr>\n",
       "      <th>4</th>\n",
       "      <td>5</td>\n",
       "      <td>0</td>\n",
       "      <td>3</td>\n",
       "      <td>Allen, Mr. William Henry</td>\n",
       "      <td>male</td>\n",
       "      <td>35</td>\n",
       "      <td>0</td>\n",
       "      <td>0</td>\n",
       "      <td>373450</td>\n",
       "      <td>8.0500</td>\n",
       "      <td>NaN</td>\n",
       "      <td>S</td>\n",
       "    </tr>\n",
       "  </tbody>\n",
       "</table>\n",
       "</div>"
      ],
      "text/plain": [
       "   PassengerId  Survived  Pclass  \\\n",
       "0            1         0       3   \n",
       "1            2         1       1   \n",
       "2            3         1       3   \n",
       "3            4         1       1   \n",
       "4            5         0       3   \n",
       "\n",
       "                                                Name     Sex  Age  SibSp  \\\n",
       "0                            Braund, Mr. Owen Harris    male   22      1   \n",
       "1  Cumings, Mrs. John Bradley (Florence Briggs Th...  female   38      1   \n",
       "2                             Heikkinen, Miss. Laina  female   26      0   \n",
       "3       Futrelle, Mrs. Jacques Heath (Lily May Peel)  female   35      1   \n",
       "4                           Allen, Mr. William Henry    male   35      0   \n",
       "\n",
       "   Parch            Ticket     Fare Cabin Embarked  \n",
       "0      0         A/5 21171   7.2500   NaN        S  \n",
       "1      0          PC 17599  71.2833   C85        C  \n",
       "2      0  STON/O2. 3101282   7.9250   NaN        S  \n",
       "3      0            113803  53.1000  C123        S  \n",
       "4      0            373450   8.0500   NaN        S  "
      ]
     },
     "execution_count": 169,
     "metadata": {},
     "output_type": "execute_result"
    }
   ],
   "source": [
    "# 2.  Look at the first 5 rows.\n",
    "\n",
    "df.head()\n"
   ]
  },
  {
   "cell_type": "code",
   "execution_count": 18,
   "metadata": {
    "collapsed": false,
    "scrolled": true
   },
   "outputs": [
    {
     "data": {
      "text/plain": [
       "(891, 12)"
      ]
     },
     "execution_count": 18,
     "metadata": {},
     "output_type": "execute_result"
    }
   ],
   "source": [
    "# 3.  What is the size of the data set? (rows and columns)\n",
    "\n",
    "\n",
    "df.shape\n"
   ]
  },
  {
   "cell_type": "code",
   "execution_count": 170,
   "metadata": {
    "collapsed": false
   },
   "outputs": [
    {
     "name": "stdout",
     "output_type": "stream",
     "text": [
      "342\n",
      "38.3838383838 %\n"
     ]
    }
   ],
   "source": [
    "# 4.  How many people survived? What percentage of people survived?\n",
    "\n",
    "survivedT = df['Survived']\n",
    "survived = sum(survivedT)\n",
    "print survived\n",
    "print 100.0*survived/len(survivedT), '%'"
   ]
  },
  {
   "cell_type": "code",
   "execution_count": 171,
   "metadata": {
    "collapsed": false
   },
   "outputs": [
    {
     "name": "stdout",
     "output_type": "stream",
     "text": [
      "percentage of male passengers:  64.758698092 %\n",
      "percentage of female passengers:  35.241301908 %\n"
     ]
    }
   ],
   "source": [
    "# 5.  What percentage of passengers are male? female?\n",
    "\n",
    "sex = df['Sex'].tolist()\n",
    "leng = len(sex)\n",
    "\n",
    "sum_male = sex.count('male')\n",
    "sum_female = sex.count('female')\n",
    "\n",
    "print 'percentage of male passengers: ', 100.0*sum_male/leng, '%'\n",
    "print 'percentage of female passengers: ', 100.0*sum_female/leng, '%'"
   ]
  },
  {
   "cell_type": "code",
   "execution_count": 142,
   "metadata": {
    "collapsed": false
   },
   "outputs": [
    {
     "name": "stdout",
     "output_type": "stream",
     "text": [
      "survival rate of male passengers:  18.8908145581 %\n",
      "survival rate of female passengers:  74.2038216561 %\n"
     ]
    }
   ],
   "source": [
    "# 6.  What is the survival rate of male passengers? female passengers?\n",
    "\n",
    "\n",
    "surv_list = survivedT.tolist()\n",
    "surv_sex = zip(surv_list, sex)\n",
    "\n",
    "surv_male = surv_sex.count((1, 'male'))\n",
    "surv_female = surv_sex.count((1, 'female'))\n",
    "\n",
    "\n",
    "print 'survival rate of male passengers: ', 100.0*surv_male/sum_male, \"%\"\n",
    "print 'survival rate of female passengers: ', 100.0*surv_female/sum_female, \"%\"\n",
    "\n",
    "\n",
    "\n",
    "\n"
   ]
  },
  {
   "cell_type": "code",
   "execution_count": 172,
   "metadata": {
    "collapsed": false
   },
   "outputs": [
    {
     "name": "stdout",
     "output_type": "stream",
     "text": [
      "3 different classes\n"
     ]
    }
   ],
   "source": [
    "# 7.  How many different cabin classes, Pclass, are there?\n",
    "\n",
    "pclass_list = df['Pclass'].tolist()\n",
    "pclass_set =set(pclass_list)\n",
    "\n",
    "print len(pclass_set), 'different classes'"
   ]
  },
  {
   "cell_type": "code",
   "execution_count": 173,
   "metadata": {
    "collapsed": false
   },
   "outputs": [
    {
     "name": "stdout",
     "output_type": "stream",
     "text": [
      "percentage in class 1:  24.2424242424 %\n",
      "percentage in class 2:  20.6509539843 %\n",
      "percentage in class 3:  55.1066217733 %\n"
     ]
    }
   ],
   "source": [
    "# 8.  What percent of the passengers are in each class?\n",
    "\n",
    "sum1 = pclass_list.count(1)\n",
    "sum2 = pclass_list.count(2)\n",
    "sum3 = pclass_list.count(3)\n",
    "\n",
    "print 'percentage in class 1: ', 100.0*sum1/leng, '%'\n",
    "print 'percentage in class 2: ', 100.0*sum2/leng, '%'\n",
    "print 'percentage in class 3: ', 100.0*sum3/leng, '%'\n",
    "\n",
    "\n"
   ]
  },
  {
   "cell_type": "code",
   "execution_count": 174,
   "metadata": {
    "collapsed": false
   },
   "outputs": [
    {
     "name": "stdout",
     "output_type": "stream",
     "text": [
      "survival rate of class 1 62.962962963 %\n",
      "survival rate of class 2 47.2826086957 %\n",
      "survival rate of class 3 24.2362525458 %\n"
     ]
    }
   ],
   "source": [
    "# 9.  What is the survival rate within each class?\n",
    "\n",
    "\n",
    "p_surv = zip(pclass_list, surv_list)\n",
    "\n",
    "p1_surv1 = p_surv.count((1,1))\n",
    "p2_surv1 = p_surv.count((2,1))\n",
    "p3_surv1 = p_surv.count((3,1))\n",
    "\n",
    "print 'survival rate of class 1', 100.0*p1_surv1/sum1, '%'\n",
    "print 'survival rate of class 2', 100.0*p2_surv1/sum2, '%'\n",
    "print 'survival rate of class 3', 100.0*p3_surv1/sum3, '%'\n",
    "\n",
    "\n"
   ]
  },
  {
   "cell_type": "code",
   "execution_count": 175,
   "metadata": {
    "collapsed": false
   },
   "outputs": [
    {
     "data": {
      "text/plain": [
       "<matplotlib.legend.Legend at 0x10ac1c590>"
      ]
     },
     "execution_count": 175,
     "metadata": {},
     "output_type": "execute_result"
    },
    {
     "data": {
      "image/png": "[encoded data removed]",
      "text/plain": [
       "<matplotlib.figure.Figure at 0x109bcc290>"
      ]
     },
     "metadata": {},
     "output_type": "display_data"
    }
   ],
   "source": [
    "# 10.  Create a histogram of ages split by sex and survival.\n",
    "\n",
    "\n",
    "\n",
    "dft = df[['Age', 'Survived', 'Sex']]\n",
    "dft = dft[np.isfinite(dft['Age'])]\n",
    "\n",
    "dft_male = dft.loc[dft['Sex'] == 'male']\n",
    "dft_male1 = dft_male.loc[dft_male['Survived'] == 1]\n",
    "dft_male0 = dft_male.loc[dft_male['Survived'] == 0]\n",
    "dft_female = dft.loc[dft['Sex'] == 'female']\n",
    "dft_female1 = dft_female.loc[dft_female['Survived'] == 1]\n",
    "dft_female0 = dft_female.loc[dft_female['Survived'] == 0]\n",
    "\n",
    "plt.hist((dft_male1['Age'], dft_male0['Age'], dft_female1['Age'], dft_female0['Age']), \n",
    "        color=['cyan', 'navy', 'magenta', 'maroon'],\n",
    "        label = ['Survived Males', 'Males that did not Survive', 'Survived Females', 'Females that did not survive'])\n",
    "plt.legend()\n"
   ]
  },
  {
   "cell_type": "code",
   "execution_count": 177,
   "metadata": {
    "collapsed": false
   },
   "outputs": [
    {
     "data": {
      "text/plain": [
       "([<matplotlib.axis.XTick at 0x10c390990>,\n",
       "  <matplotlib.axis.XTick at 0x10c390a10>,\n",
       "  <matplotlib.axis.XTick at 0x10c98b690>,\n",
       "  <matplotlib.axis.XTick at 0x10c8b4150>,\n",
       "  <matplotlib.axis.XTick at 0x10ca43610>,\n",
       "  <matplotlib.axis.XTick at 0x10ca43d50>],\n",
       " <a list of 6 Text xticklabel objects>)"
      ]
     },
     "execution_count": 177,
     "metadata": {},
     "output_type": "execute_result"
    },
    {
     "data": {
      "image/png": "[encoded data removed]",
      "text/plain": [
       "<matplotlib.figure.Figure at 0x10c32e6d0>"
      ]
     },
     "metadata": {},
     "output_type": "display_data"
    }
   ],
   "source": [
    "# 11.  Create a boxplot for age split by class and sex.\n",
    "\n",
    "dftt = df[['Age', 'Pclass', 'Sex']]\n",
    "dftt = dftt[np.isfinite(dftt['Age'])]\n",
    "\n",
    "dfttM = dftt.loc[dftt['Sex'] =='male']\n",
    "dfttF = dftt.loc[dftt['Sex'] =='female']\n",
    "\n",
    "m1 = dfttM.loc[dfttM['Pclass'] == 1]\n",
    "m2 = dfttM.loc[dfttM['Pclass'] == 2]\n",
    "m3 = dfttM.loc[dfttM['Pclass'] == 3]\n",
    "f1 = dfttF.loc[dfttF['Pclass'] == 1]\n",
    "f2 = dfttF.loc[dfttF['Pclass'] == 2]\n",
    "f3 = dfttF.loc[dfttF['Pclass'] == 3]\n",
    "\n",
    "plt.boxplot((m1['Age'], m2['Age'], m3['Age'], f1['Age'], f2['Age'], f3['Age']))\n",
    "plt.xticks([1,2,3,4,5,6], ['males in class 1', 'males in class 2', 'males in class 3', \n",
    "                           'females in class 1', 'females in class 2', 'females in class 3'])\n",
    "\n",
    "\n",
    "\n"
   ]
  },
  {
   "cell_type": "code",
   "execution_count": 198,
   "metadata": {
    "collapsed": false
   },
   "outputs": [
    {
     "data": {
      "text/plain": [
       "<matplotlib.legend.Legend at 0x10e868090>"
      ]
     },
     "execution_count": 198,
     "metadata": {},
     "output_type": "execute_result"
    },
    {
     "data": {
      "image/png": "[encoded data removed]",
      "text/plain": [
       "<matplotlib.figure.Figure at 0x10f8d5390>"
      ]
     },
     "metadata": {},
     "output_type": "display_data"
    },
    {
     "data": {
      "image/png": "[encoded data removed]",
      "text/plain": [
       "<matplotlib.figure.Figure at 0x10e29c190>"
      ]
     },
     "metadata": {},
     "output_type": "display_data"
    },
    {
     "data": {
      "image/png": "[encoded data removed]",
      "text/plain": [
       "<matplotlib.figure.Figure at 0x10b872cd0>"
      ]
     },
     "metadata": {},
     "output_type": "display_data"
    }
   ],
   "source": [
    "# 12.  For each class create a histogram plot of ages split by suvivor or not. \n",
    "# ( You will have one figure for each class. Each figure will have two histograms on it. \n",
    "# One for survivors and one for non-survivors where the survivors are colored blue and non-survivors colored red)\n",
    "\n",
    "\n",
    "dff = df[['Pclass', 'Age', 'Survived']]\n",
    "dff = dff[np.isfinite(dff['Age'])]\n",
    "\n",
    "dff1 = dff.loc[dff['Pclass'] == 1]\n",
    "dff2 = dff.loc[dff['Pclass'] == 2]\n",
    "dff3 = dff.loc[dff['Pclass'] == 3]\n",
    "\n",
    "p1s1 = dff1.loc[dff1['Survived'] == 1]\n",
    "p1s0 = dff1.loc[dff1['Survived'] == 0]\n",
    "p2s1 = dff2.loc[dff2['Survived'] == 1]\n",
    "p2s0 = dff2.loc[dff2['Survived'] == 0]\n",
    "p3s1 = dff3.loc[dff3['Survived'] == 1]\n",
    "p3s0 = dff3.loc[dff3['Survived'] == 0]\n",
    "\n",
    "plt.figure(1)\n",
    "plt.title('Class 1')\n",
    "plt.hist((p1s1['Age'], p1s0['Age']), color=['blue','red'], label = ['Survived', 'did not survive'])\n",
    "plt.legend()\n",
    "\n",
    "plt.figure(2)\n",
    "plt.title('Class 2')\n",
    "plt.hist((p2s1['Age'], p2s0['Age']), color=['blue','red'], label = ['Survived', 'did not survive'])\n",
    "plt.legend()\n",
    "\n",
    "plt.figure(3)\n",
    "plt.title('Class 3')\n",
    "plt.hist((p3s1['Age'], p3s0['Age']), color=['blue','red'], label = ['Survived', 'did not survive'])\n",
    "plt.legend()"
   ]
  },
  {
   "cell_type": "markdown",
   "metadata": {
    "collapsed": true
   },
   "source": [
    "..13.  Discuss anything interesting you found. Where there any surprises? Are there any data issues you found? If you wanted to predict survival or not what do you think we be the most useful?\n",
    "\n",
    "\n",
    "i thought it was interesting that the \"women and children first\" trope was true and visible through the data.  i wonder why some of the ages were not recorded.  or how some of the ages appear as non-integers.  is age determined by the person's bday?  i guess to predict survival, the most useful variables would but what class the person was in, and if they were women and children.  \n",
    "\n"
   ]
  },
  {
   "cell_type": "code",
   "execution_count": null,
   "metadata": {
    "collapsed": true
   },
   "outputs": [],
   "source": []
  }
 ],
 "metadata": {
  "kernelspec": {
   "display_name": "Python 2",
   "language": "python",
   "name": "python2"
  },
  "language_info": {
   "codemirror_mode": {
    "name": "ipython",
    "version": 2
   },
   "file_extension": ".py",
   "mimetype": "text/x-python",
   "name": "python",
   "nbconvert_exporter": "python",
   "pygments_lexer": "ipython2",
   "version": "2.7.10"
  }
 },
 "nbformat": 4,
 "nbformat_minor": 0
}
